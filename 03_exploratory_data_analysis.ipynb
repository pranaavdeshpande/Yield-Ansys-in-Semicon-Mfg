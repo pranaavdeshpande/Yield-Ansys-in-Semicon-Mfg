{
 "cells": [
  {
   "cell_type": "code",
   "execution_count": null,
   "metadata": {
    "collapsed": true
   },
   "outputs": [],
   "source": [
    "# Making correlation coefficients pair plot of all feature in order to identify degenrate features\n",
    "plt.figure(figsize=(25,25))\n",
    "df1 = pd.concat([X,y],axis=1, ignore_index=False) \n",
    "ax = plt.axes()\n",
    "corr = df1.corr()\n",
    "sns.heatmap(corr, vmax=1,vmin=-1, square=True, annot=False, cmap='Spectral',linecolor=\"white\", linewidths=0.01, ax=ax)\n",
    "plt.xticks(rotation=90,fontweight=\"bold\", size=15) \n",
    "plt.yticks(rotation=0,fontweight=\"bold\", size=15) \n",
    "plt.title('Correlation Coefficient Pair Plot', fontweight=\"bold\", size=18)\n",
    "plt.savefig('pcp.png')\n",
    "plt.show()"
   ]
  },
  {
   "cell_type": "code",
   "execution_count": null,
   "metadata": {
    "collapsed": true
   },
   "outputs": [],
   "source": [
    "# Making box plot to explore features variations and outliers\n",
    "plt.figure(figsize=(16,8))\n",
    "sns.set()\n",
    "sns.boxplot(data=X, orient=\"v\", palette=\"Set2\")\n",
    "plt.xlabel('Features',fontweight=\"bold\", size=12)\n",
    "plt.ylabel('Variation',fontweight=\"bold\", size=12)\n",
    "plt.title('Box Plot of Selected Features', fontweight=\"bold\", size=18)\n",
    "plt.yscale('symlog', nonposy='clip')\n",
    "plt.xticks(rotation=90)\n",
    "plt.savefig('BoxPlot.png');plt.show()"
   ]
  },
  {
   "cell_type": "code",
   "execution_count": null,
   "metadata": {
    "collapsed": true
   },
   "outputs": [],
   "source": [
    "# Exploratory Data Analysis\n",
    "# Plotting total products against failed product in histogram format  \n",
    "bins = 30\n",
    "for feature in feature_list:\n",
    "    tf = feature\n",
    "    plt.figure()\n",
    "    plt.hist(df1[tf], bins = bins, color='m',label = 'Total',alpha=0.5)\n",
    "    plt.hist(df1[tf][df1['L0'] == 1], bins = bins, color='b',label = 'Fail')\n",
    "\n",
    "    plt.xlabel(tf);plt.ylabel('Production')\n",
    "    plt.title('Feature ID:'+tf,fontweight=\"bold\", size=12)\n",
    "    plt.yscale('log')\n",
    "\n",
    "    plt.legend();plt.savefig(tf+'.png');\n",
    "    plt.close();\n"
   ]
  }
 ],
 "metadata": {
  "kernelspec": {
   "display_name": "Python 3",
   "language": "python",
   "name": "python3"
  },
  "language_info": {
   "codemirror_mode": {
    "name": "ipython",
    "version": 3
   },
   "file_extension": ".py",
   "mimetype": "text/x-python",
   "name": "python",
   "nbconvert_exporter": "python",
   "pygments_lexer": "ipython3",
   "version": "3.6.1"
  }
 },
 "nbformat": 4,
 "nbformat_minor": 2
}
