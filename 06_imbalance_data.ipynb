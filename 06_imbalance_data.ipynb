{
 "cells": [
  {
   "cell_type": "code",
   "execution_count": null,
   "metadata": {
    "collapsed": true
   },
   "outputs": [],
   "source": [
    "#########################################################\n",
    "# Claculating default Ratio\n",
    "passed = len(df[df['L0']==0])\n",
    "failed = len(df[df['L0']==1])\n",
    "ratio = float(failed/(passed+failed))\n",
    "print('Number of passed sample:', passed)\n",
    "print('Number of failed sample:', failed)\n",
    "print('Default Ratio (failed/total) :', \"%.3f\" % ratio)\n",
    "\n",
    "#########################################################\n",
    "# Splitting data to train and test sets\n",
    "\n",
    "X_train, X_test, y_train, y_test = train_test_split(X, y,test_size = 0.3, random_state=42)\n",
    "X_test = X_test.as_matrix() # Coverting dataframe to matrix for compatibility purpose\n",
    "\n",
    "# Under-sampling of overer-represented calss (pass) \n",
    "from imblearn.under_sampling import RandomUnderSampler\n",
    "rus = RandomUnderSampler(random_state=0)\n",
    "X_us, y_us = rus.fit_sample(X_train, y_train)\n",
    "\n",
    "print('########################################')\n",
    "print('Size of training data-set:', X_train.shape)\n",
    "print('Size of under sampling data_set:', X_us.shape)\n",
    "\n",
    "# Over-sampling of under-represented calss (fail)\n",
    "from imblearn.over_sampling import RandomOverSampler\n",
    "ros = RandomOverSampler(random_state=0)\n",
    "X_os, y_os = ros.fit_sample(X_train, y_train)\n",
    "print('Size of overer sampling data_set:', X_os.shape)"
   ]
  }
 ],
 "metadata": {
  "kernelspec": {
   "display_name": "Python 3",
   "language": "python",
   "name": "python3"
  },
  "language_info": {
   "codemirror_mode": {
    "name": "ipython",
    "version": 3
   },
   "file_extension": ".py",
   "mimetype": "text/x-python",
   "name": "python",
   "nbconvert_exporter": "python",
   "pygments_lexer": "ipython3",
   "version": "3.6.1"
  }
 },
 "nbformat": 4,
 "nbformat_minor": 2
}
