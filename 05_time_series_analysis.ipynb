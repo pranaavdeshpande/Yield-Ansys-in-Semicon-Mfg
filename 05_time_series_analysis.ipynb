{
 "cells": [
  {
   "cell_type": "code",
   "execution_count": null,
   "metadata": {
    "collapsed": true
   },
   "outputs": [],
   "source": [
    "# Preparing data for time series analysis\n",
    "# Concatinating two separate files\n",
    "df2 = pd.concat([features,label],axis=1, ignore_index=False)\n",
    "\n",
    "# Converting to time series format\n",
    "df2.date = pd.to_datetime(df2.date)\n",
    "df2.set_index('date', inplace=True)\n"
   ]
  },
  {
   "cell_type": "code",
   "execution_count": null,
   "metadata": {
    "collapsed": true
   },
   "outputs": [],
   "source": [
    "# Resampling yield data based on daily information \n",
    "failed_product = df2.L0[df2['L0']==1].resample('D').count()\n",
    "total_product = df2.L0[df2['L0']==-1].resample('D').count()\n",
    "\n",
    "failed_ratio = failed_product * 100 / total_product\n",
    "failed_ratio = failed_ratio.dropna()\n",
    "\n",
    "# Visualizaion of daily production failed ratio\n",
    "sns.set()\n",
    "\n",
    "failed_ratio.plot(style='bo-',MarkerSize=4, LineWidth = 0.6, figsize=(15,5))\n",
    "\n",
    "plt.xlabel('Date', fontweight=\"bold\", size=12)\n",
    "plt.ylabel('Failed Ratio (%)', fontweight=\"bold\", size=12)\n",
    "plt.grid(True);plt.savefig('100Days.png')\n",
    "plt.show()"
   ]
  },
  {
   "cell_type": "code",
   "execution_count": null,
   "metadata": {
    "collapsed": true
   },
   "outputs": [],
   "source": [
    "# Indexing dates with more than 50% failed ratio\n",
    "date_index = failed_ratio[failed_ratio >= 50]\n",
    "\n",
    "# Plotting F484 for date_index\n",
    "df2['F484'].loc['2008-07-21'].hist(alpha=0.7, label = '2008-07-21')\n",
    "df2['F484'].loc['2008-07-29'].hist(alpha=0.7, label = '2008-07-29')\n",
    "df2['F484'].loc['2008-07-30'].hist(alpha=0.7, label = '2008-07-30')\n",
    "df2['F484'].loc['2008-10-08'].hist(alpha=0.7, label = '2008-10-08')\n",
    "plt.axvline(680, color='r', linestyle='dashed', linewidth=3) # Thresold in hypothesis testing (Previouse section)\n",
    "plt.xlabel('F484', fontweight=\"bold\", size=12)\n",
    "plt.legend()\n",
    "plt.savefig('F484_Worst.png')\n",
    "plt.show()\n"
   ]
  }
 ],
 "metadata": {
  "kernelspec": {
   "display_name": "Python 3",
   "language": "python",
   "name": "python3"
  },
  "language_info": {
   "codemirror_mode": {
    "name": "ipython",
    "version": 3
   },
   "file_extension": ".py",
   "mimetype": "text/x-python",
   "name": "python",
   "nbconvert_exporter": "python",
   "pygments_lexer": "ipython3",
   "version": "3.6.1"
  }
 },
 "nbformat": 4,
 "nbformat_minor": 2
}
