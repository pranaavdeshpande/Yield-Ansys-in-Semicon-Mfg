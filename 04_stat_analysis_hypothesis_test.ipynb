{
 "cells": [
  {
   "cell_type": "code",
   "execution_count": null,
   "metadata": {
    "collapsed": true
   },
   "outputs": [],
   "source": [
    "# Statistical Analysis & Hypothesis Testing\n",
    "num_replica = 3000\n",
    "bs_replica = np.empty(num_replica)\n",
    "ht_feature = 'F484'\n",
    "threshold = 680\n",
    "\n",
    "lower_range = df1[(df1[ht_feature]>threshold) ]\n",
    "higher_range = df1[(df1[ht_feature]<=threshold)]\n",
    "\n",
    "lower_range_ratio = len(lower_range[lower_range['L0'] == 1])/len(lower_range)\n",
    "higher_range_ratio = len(higher_range[higher_range['L0'] == 1])/len(higher_range)\n",
    "ratio_diff = higher_range_ratio-lower_range_ratio\n",
    "\n",
    "print('Higher fail ratio:',\"%.3f\" % higher_range_ratio)\n",
    "print('Lower fail ration:',\"%.3f\" % lower_range_ratio)\n",
    "print('Ratio difference:', \"%.3f\" % ratio_diff)\n",
    "\n",
    "# Bootstrapping\n",
    "for i in range(num_replica):\n",
    "    lr_bs = lower_range.sample(frac=1,replace=True)\n",
    "    hr_bs = higher_range.sample(frac=1,replace=True)\n",
    "    \n",
    "    lr_bs_r = len(lr_bs[lr_bs['L0'] == 1])/len(lr_bs)\n",
    "    hr_bs_r = len(hr_bs[hr_bs['L0'] == 1])/len(hr_bs)\n",
    "    ratio_diff_bs = hr_bs_r - lr_bs_r\n",
    "    bs_replica[i] = ratio_diff_bs  \n",
    "\n",
    "\n",
    "# Histogram plot    \n",
    "plt.hist(bs_replica, bins=20)\n",
    "plt.axvline(ratio_diff, color='r', linestyle='dashed', linewidth=3)\n",
    "plt.xlabel('Yield Ratio Difference',fontweight=\"bold\", size=12)\n",
    "plt.savefig('Hypothesis.png');\n",
    "plt.show()   \n",
    "\n",
    "# Calculating P-value\n",
    "print('Mean ratio decrease:',\"%.3f\" % np.mean(bs_replica))\n",
    "print('95% Confidence interval:', (np.percentile(bs_replica,[2.5,97.5])))\n",
    "print('P-value:', np.sum(bs_replica > (ratio_diff))/num_replica)\n"
   ]
  }
 ],
 "metadata": {
  "kernelspec": {
   "display_name": "Python 3",
   "language": "python",
   "name": "python3"
  },
  "language_info": {
   "codemirror_mode": {
    "name": "ipython",
    "version": 3
   },
   "file_extension": ".py",
   "mimetype": "text/x-python",
   "name": "python",
   "nbconvert_exporter": "python",
   "pygments_lexer": "ipython3",
   "version": "3.6.1"
  }
 },
 "nbformat": 4,
 "nbformat_minor": 2
}
