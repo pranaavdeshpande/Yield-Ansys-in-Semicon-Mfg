{
 "cells": [
  {
   "cell_type": "code",
   "execution_count": null,
   "metadata": {
    "collapsed": true
   },
   "outputs": [],
   "source": [
    "# Import ML Libraries \n",
    "\n",
    "import xgboost as xgb\n",
    "from xgboost.sklearn import XGBClassifier\n",
    "from sklearn import cross_validation, metrics   #Additional scklearn functions\n",
    "from sklearn.grid_search import GridSearchCV   #Perforing grid search\n",
    "from sklearn.metrics import roc_curve, auc,roc_auc_score\n",
    "from sklearn.metrics import classification_report\n",
    "from matplotlib.pylab import rcParams\n",
    "import warnings\n",
    "warnings.filterwarnings('ignore')\n",
    "rcParams['figure.figsize'] = 12, 4"
   ]
  },
  {
   "cell_type": "code",
   "execution_count": null,
   "metadata": {
    "collapsed": true
   },
   "outputs": [],
   "source": [
    "# XGB Model\n",
    "\n",
    "def xgb_model(alg, X_matrix, y_vector, test_matrix, test_vector, useTrainCV=True, useTestSet = False, cv_folds=5, early_stopping_rounds=50):\n",
    "    \n",
    "    if useTrainCV:\n",
    "        xgb_param = alg.get_xgb_params()\n",
    "        xgtrain = xgb.DMatrix(X_matrix, y_vector)\n",
    "        cvresult = xgb.cv(xgb_param, xgtrain, num_boost_round=alg.get_params()['n_estimators'], nfold=cv_folds,\n",
    "            metrics='auc', early_stopping_rounds=early_stopping_rounds)\n",
    "        alg.set_params(n_estimators=cvresult.shape[0])\n",
    "    \n",
    "    #Fit the algorithm on the data\n",
    "    alg.fit(X_matrix, y_vector, eval_metric='auc')   \n",
    "    \n",
    "    #Predict training set:\n",
    "    dtrain_predictions = alg.predict(X_matrix)\n",
    "    dtrain_predprob = alg.predict_proba(X_matrix)[:,1]\n",
    "    #Print model report:\n",
    "    print (\"\\nModel Report on Training Set\")\n",
    "    print (\"Accuracy : %.4g\" % metrics.accuracy_score(y_vector, dtrain_predictions))\n",
    "    print (\"AUC Score (Train): %f\" % metrics.roc_auc_score(y_vector, dtrain_predprob))\n",
    "    # Determine the false positive and true positive rates\n",
    "    fpr_train, tpr_train, _ = roc_curve(y_vector, dtrain_predprob)\n",
    "    # Plot of a ROC curve for a specific class\n",
    "    plt.figure()\n",
    "    plt.plot(fpr_train, tpr_train, label='Training ROC curve (area = %0.2f)' % metrics.roc_auc_score(y_vector, dtrain_predprob))\n",
    "       \n",
    "    ############################################################    \n",
    "    if useTestSet:   \n",
    "        #Predict test set:\n",
    "        dtest_predictions = alg.predict(test_matrix)\n",
    "        dtest_predprob = alg.predict_proba(test_matrix)[:,1] \n",
    "        #Print model report:\n",
    "        print (\"\\nModel Report on Test Set\")\n",
    "        print (\"Accuracy : %.4g\" % metrics.accuracy_score(test_vector, dtest_predictions))\n",
    "        print (\"AUC Score (Test): %f\" % metrics.roc_auc_score(test_vector, dtest_predprob))               \n",
    "        # Determine the false positive and true positive rates\n",
    "        fpr_test, tpr_test, _ = roc_curve(test_vector, dtest_predprob) \n",
    "        # Plot of a ROC curve for a specific class\n",
    "        plt.plot(fpr_test, tpr_test, label='Test ROC curve (area = %0.2f)' % metrics.roc_auc_score(test_vector, dtest_predprob))\n",
    "              \n",
    "    ############################################################    \n",
    "    plt.plot([0, 1], [0, 1], 'k--'); plt.xlim([0.0, 1.0]); plt.ylim([0.0, 1.05]);\n",
    "    plt.xlabel('False Positive Rate'); plt.ylabel('True Positive Rate'); plt.title('ROC Curve')\n",
    "    plt.legend(loc=\"lower right\"); plt.savefig('ROC.png'); plt.show()\n",
    "\n",
    "    \n",
    "    ############################################################\n",
    "    # Calculating feature importance\n",
    "    feat_imp = pd.Series(alg.booster().get_fscore()).sort_values(ascending=False)\n",
    "    feat_imp.plot(kind='bar', title='Feature Importances')\n",
    "    plt.ylabel('Feature Importance Score')\n",
    "    plt.savefig('Feature_Importance.png'); plt.show()    "
   ]
  },
  {
   "cell_type": "code",
   "execution_count": null,
   "metadata": {
    "collapsed": true
   },
   "outputs": [],
   "source": [
    "# First run with default model parameters \n",
    "\n",
    "xgb1 = XGBClassifier(\n",
    " learning_rate =0.1,\n",
    " n_estimators=200,\n",
    " max_depth=5,\n",
    " min_child_weight=1,\n",
    " gamma=0,\n",
    " subsample=0.8,\n",
    " colsample_bytree=0.8,\n",
    " reg_alpha=0,\n",
    " reg_lambda=1,     \n",
    " objective= 'binary:logistic',\n",
    " nthread=4,\n",
    " scale_pos_weight=1,\n",
    " seed=27)\n",
    "xgb_model(xgb1, X_train, y_train, X_test, y_test)\n"
   ]
  }
 ],
 "metadata": {
  "kernelspec": {
   "display_name": "Python 3",
   "language": "python",
   "name": "python3"
  },
  "language_info": {
   "codemirror_mode": {
    "name": "ipython",
    "version": 3
   },
   "file_extension": ".py",
   "mimetype": "text/x-python",
   "name": "python",
   "nbconvert_exporter": "python",
   "pygments_lexer": "ipython3",
   "version": "3.6.1"
  }
 },
 "nbformat": 4,
 "nbformat_minor": 2
}
