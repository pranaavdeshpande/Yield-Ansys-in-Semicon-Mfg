{
 "cells": [
  {
   "cell_type": "code",
   "execution_count": null,
   "metadata": {
    "collapsed": true
   },
   "outputs": [],
   "source": [
    "# Employing Lasso regularization approach to reduce feature matrix dimenssion\n",
    "lasso = Lasso(alpha=0.2,normalize=False)\n",
    "lasso_coef = lasso.fit(X, y).coef_\n",
    "print('Total number of remaining features:')\n",
    "print(len(lasso_coef[lasso_coef!=0.0]))\n",
    "\n",
    "# Making a list from selected features\n",
    "val = lasso_coef[lasso_coef!=0.0]\n",
    "key, = np.where(lasso_coef!=0.0)\n",
    "feature_list = X.columns[key]\n",
    "val_plt = np.multiply(val,1000)\n",
    "feature_list = feature_list.tolist()\n",
    "feature_column = key.tolist()\n",
    "val = val.tolist()\n",
    "print('List of selected features via Lasso dimenssion reduction:')\n",
    "print(feature_list)\n",
    "\n",
    "# revising feature matrix based on LASSO features reduction\n",
    "X = X[feature_list]"
   ]
  }
 ],
 "metadata": {
  "kernelspec": {
   "display_name": "Python 3",
   "language": "python",
   "name": "python3"
  },
  "language_info": {
   "codemirror_mode": {
    "name": "ipython",
    "version": 3
   },
   "file_extension": ".py",
   "mimetype": "text/x-python",
   "name": "python",
   "nbconvert_exporter": "python",
   "pygments_lexer": "ipython3",
   "version": "3.6.1"
  }
 },
 "nbformat": 4,
 "nbformat_minor": 2
}
